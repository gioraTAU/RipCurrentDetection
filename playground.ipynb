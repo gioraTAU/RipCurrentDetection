{
 "cells": [
  {
   "cell_type": "code",
   "execution_count": null,
   "id": "80d33a70",
   "metadata": {},
   "outputs": [],
   "source": [
    "import pandas as pd\n",
    "from pathlib import Path\n",
    "from costumDataset import *\n",
    "data_path = Path(r'..\\Data')\n",
    "list(data_path.glob('*'))"
   ]
  },
  {
   "cell_type": "code",
   "execution_count": null,
   "id": "bd1c3af5",
   "metadata": {},
   "outputs": [],
   "source": [
    "%load_ext autoreload\n",
    "%autoreload 2"
   ]
  },
  {
   "cell_type": "code",
   "execution_count": null,
   "id": "1fbcc5fb",
   "metadata": {},
   "outputs": [],
   "source": [
    "csv_path = data_path/'aug_data_labels.csv'\n",
    "csv_df = pd.read_csv(csv_path)\n",
    "csv_df.drop_duplicates(subset=['Name'], inplace=True)\n",
    "csv_df.to_csv(csv_path, index=False)"
   ]
  },
  {
   "cell_type": "code",
   "execution_count": null,
   "id": "56be0015",
   "metadata": {},
   "outputs": [],
   "source": [
    "#Thanks to: https://stackoverflow.com/questions/72552647/pytorch-fasterrcnn-gives-no-output\n",
    "from torchvision.models.detection import FasterRCNN_ResNet50_FPN_Weights, FasterRCNN_ResNet50_FPN_V2_Weights\n",
    "import torchvision\n",
    "\n",
    "model = torchvision.models.detection.fasterrcnn_resnet50_fpn(weights=FasterRCNN_ResNet50_FPN_Weights.DEFAULT)"
   ]
  },
  {
   "cell_type": "code",
   "execution_count": null,
   "id": "1813ae18",
   "metadata": {},
   "outputs": [],
   "source": [
    "import pandas as pd\n",
    "from pathlib import Path\n",
    "from costumDataset import *\n",
    "data_path = Path(r'..\\Data')\n",
    "from torchvision.models.detection import FasterRCNN_ResNet50_FPN_Weights, FasterRCNN_ResNet50_FPN_V2_Weights\n",
    "import torchvision\n",
    "\n",
    "model = torchvision.models.detection.fasterrcnn_resnet50_fpn(weights=FasterRCNN_ResNet50_FPN_Weights.DEFAULT)\n",
    "df = pd.read_csv(data_path/'aug_data_labels.csv')\n",
    "df = df[df['label'] == 1]\n",
    "\n",
    "img_dir = str(data_path/'fixed_data') + '\\\\'\n",
    "trans = T.ToTensor()\n",
    "\n",
    "train_ds = RipCurrentDataset(df, img_dir, trans)\n",
    "\n",
    "train_dl = DataLoader(train_ds, batch_size=16, shuffle=True)\n",
    "\n",
    "\n",
    "for images, targets in train_dl:\n",
    "\n",
    "    \n",
    "    boxes = targets['box']\n",
    "    labels = targets['labels']\n",
    "    new_targets = [\n",
    "        {'boxes': box, 'labels': label}\n",
    "        for box, label in zip(boxes, labels)\n",
    "        \n",
    "    ]\n",
    "    \n",
    "    \n",
    "    output = model(images, new_targets)\n",
    "    model.eval()\n",
    "    \n",
    "    break\n",
    "\n"
   ]
  },
  {
   "cell_type": "code",
   "execution_count": null,
   "id": "9499848b",
   "metadata": {},
   "outputs": [],
   "source": [
    "\n",
    "\n",
    "predictions = model(images)\n"
   ]
  },
  {
   "cell_type": "code",
   "execution_count": null,
   "id": "83a6aeb9",
   "metadata": {},
   "outputs": [],
   "source": [
    "predictions"
   ]
  },
  {
   "cell_type": "code",
   "execution_count": null,
   "id": "9ab61087",
   "metadata": {},
   "outputs": [],
   "source": [
    "model = torchvision.models.detection.fasterrcnn_resnet50_fpn(weights=FasterRCNN_ResNet50_FPN_Weights.DEFAULT)\n",
    "\n",
    "\n",
    "# For training\n",
    "\n",
    "\n",
    "images, boxes = torch.rand(4, 3, 600, 1200), torch.rand(4, 11, 4)\n",
    "boxes[:, :, 2:4] = boxes[:, :, 0:2] + boxes[:, :, 2:4]\n",
    "labels = torch.randint(1, 91, (4, 11))\n",
    "images = list(image for image in images)\n",
    "targets = []\n",
    "for i in range(len(images)):\n",
    "    d = {}\n",
    "    d['boxes'] = boxes[i]\n",
    "    d['labels'] = labels[i]\n",
    "    targets.append(d)\n",
    "    \n",
    "    \n",
    "output = model(images, targets)\n",
    "\n",
    "\n",
    "# For inference\n",
    "model.eval()\n",
    "\n",
    "\n",
    "x = [torch.rand(3, 300, 400), torch.rand(3, 500, 400)]\n",
    "\n",
    "predictions = model(x)\n",
    "\n"
   ]
  },
  {
   "cell_type": "code",
   "execution_count": null,
   "id": "0eaea63f",
   "metadata": {},
   "outputs": [],
   "source": [
    "d"
   ]
  },
  {
   "cell_type": "code",
   "execution_count": null,
   "id": "7c51b585",
   "metadata": {},
   "outputs": [],
   "source": [
    "d1"
   ]
  },
  {
   "cell_type": "code",
   "execution_count": null,
   "id": "00accf90",
   "metadata": {},
   "outputs": [],
   "source": [
    "df = pd.read_csv(data_path/'aug_data_labels.csv')\n",
    "df = df[df['label'] == 1]\n",
    "\n",
    "img_dir = str(data_path/'fixed_data') + '\\\\'\n",
    "trans = T.ToTensor()\n",
    "\n",
    "train_ds = RipCurrentDataset(df, img_dir, trans)\n",
    "\n",
    "train_dl = DataLoader(train_ds, batch_size=16, shuffle=True)\n",
    "\n",
    "a = next(iter(train_dl))"
   ]
  },
  {
   "cell_type": "code",
   "execution_count": null,
   "id": "4c795fa1",
   "metadata": {},
   "outputs": [],
   "source": [
    "import pandas as pd\n",
    "\n",
    "from costumDataset import *\n",
    "from resize_and_augmentation import *\n",
    "from pathlib import Path\n",
    "\n",
    "data_path = Path(r'..\\Data')\n",
    "S = np.array((300, 300))\n",
    "data_labels_path = str(data_path/'data_labels.csv')\n",
    "im_path = str(data_path/'with_rips') + '\\\\'\n",
    "target_path = str(data_path/'fixed_data') + '\\\\'\n",
    "fix_size_and_aug(data_labels_path, S, im_path, target_path)"
   ]
  },
  {
   "cell_type": "code",
   "execution_count": null,
   "id": "631e5d43",
   "metadata": {},
   "outputs": [],
   "source": []
  }
 ],
 "metadata": {
  "kernelspec": {
   "display_name": "Python 3",
   "language": "python",
   "name": "python3"
  },
  "language_info": {
   "codemirror_mode": {
    "name": "ipython",
    "version": 3
   },
   "file_extension": ".py",
   "mimetype": "text/x-python",
   "name": "python",
   "nbconvert_exporter": "python",
   "pygments_lexer": "ipython3",
   "version": "3.8.8"
  }
 },
 "nbformat": 4,
 "nbformat_minor": 5
}
